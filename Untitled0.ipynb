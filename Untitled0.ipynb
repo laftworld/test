{
  "nbformat": 4,
  "nbformat_minor": 0,
  "metadata": {
    "colab": {
      "name": "Untitled0.ipynb",
      "provenance": [],
      "authorship_tag": "ABX9TyPhPkzH3+ox9p3mm0GPObwn",
      "include_colab_link": true
    },
    "kernelspec": {
      "name": "python3",
      "display_name": "Python 3"
    }
  },
  "cells": [
    {
      "cell_type": "markdown",
      "metadata": {
        "id": "view-in-github",
        "colab_type": "text"
      },
      "source": [
        "<a href=\"https://colab.research.google.com/github/laftworld/test/blob/master/Untitled0.ipynb\" target=\"_parent\"><img src=\"https://colab.research.google.com/assets/colab-badge.svg\" alt=\"Open In Colab\"/></a>"
      ]
    },
    {
      "cell_type": "code",
      "metadata": {
        "id": "9fTOwSiRLuXu",
        "colab_type": "code",
        "outputId": "eac53b64-aa7d-4336-9b94-3a3d8c294ee0",
        "colab": {
          "base_uri": "https://localhost:8080/",
          "height": 34
        }
      },
      "source": [
        "3+3"
      ],
      "execution_count": 0,
      "outputs": [
        {
          "output_type": "execute_result",
          "data": {
            "text/plain": [
              "6"
            ]
          },
          "metadata": {
            "tags": []
          },
          "execution_count": 9
        }
      ]
    },
    {
      "cell_type": "code",
      "metadata": {
        "id": "lCzK0YwIMG9G",
        "colab_type": "code",
        "outputId": "ad2303b4-7738-4513-f22e-ac27e5b1f9fd",
        "colab": {
          "base_uri": "https://localhost:8080/",
          "height": 34
        }
      },
      "source": [
        "inp = input(\"Put input: \")"
      ],
      "execution_count": 0,
      "outputs": [
        {
          "output_type": "stream",
          "text": [
            "Put input: 4\n"
          ],
          "name": "stdout"
        }
      ]
    },
    {
      "cell_type": "code",
      "metadata": {
        "id": "AxqFBzu-M8-d",
        "colab_type": "code",
        "outputId": "017bea04-3dc4-4e04-dc3c-3466562157c2",
        "colab": {
          "base_uri": "https://localhost:8080/",
          "height": 34
        }
      },
      "source": [
        "print(inp)"
      ],
      "execution_count": 0,
      "outputs": [
        {
          "output_type": "stream",
          "text": [
            "hi\n"
          ],
          "name": "stdout"
        }
      ]
    },
    {
      "cell_type": "code",
      "metadata": {
        "id": "IbhBeFciM_em",
        "colab_type": "code",
        "outputId": "7b178f20-7e35-4196-8f46-c9b07cb7fe8a",
        "colab": {
          "base_uri": "https://localhost:8080/",
          "height": 89
        }
      },
      "source": [
        "while True:\n",
        "    inp = input(\"Put input: \")\n",
        "    print(inp)"
      ],
      "execution_count": 0,
      "outputs": [
        {
          "output_type": "stream",
          "text": [
            "Put input: 4\n",
            "4\n"
          ],
          "name": "stdout"
        }
      ]
    },
    {
      "cell_type": "code",
      "metadata": {
        "id": "eGHyOOoDNDxQ",
        "colab_type": "code",
        "outputId": "d0ed4ef3-f925-47c5-948d-3c07f2737994",
        "colab": {
          "base_uri": "https://localhost:8080/",
          "height": 85
        }
      },
      "source": [
        "!git clone https://github.com/laftworld/test.git"
      ],
      "execution_count": 9,
      "outputs": [
        {
          "output_type": "stream",
          "text": [
            "Cloning into 'test'...\n",
            "remote: Enumerating objects: 3, done.\u001b[K\n",
            "remote: Total 3 (delta 0), reused 0 (delta 0), pack-reused 3\u001b[K\n",
            "Unpacking objects: 100% (3/3), done.\n"
          ],
          "name": "stdout"
        }
      ]
    },
    {
      "cell_type": "code",
      "metadata": {
        "id": "_rQs4RNLG4zZ",
        "colab_type": "code",
        "outputId": "19ee1f18-c041-48bc-c55b-ec91fe137069",
        "colab": {
          "base_uri": "https://localhost:8080/",
          "height": 119
        }
      },
      "source": [
        "ls -al"
      ],
      "execution_count": 10,
      "outputs": [
        {
          "output_type": "stream",
          "text": [
            "total 20\n",
            "drwxr-xr-x 4 root root 4096 Jan 11 15:42 \u001b[0m\u001b[01;34m.\u001b[0m/\n",
            "drwxr-xr-x 1 root root 4096 Jan 11 15:02 \u001b[01;34m..\u001b[0m/\n",
            "drwxr-xr-x 8 root root 4096 Jan 11 15:02 \u001b[01;34m.git\u001b[0m/\n",
            "-rw-r--r-- 1 root root    6 Jan 11 15:02 README.md\n",
            "drwxr-xr-x 3 root root 4096 Jan 11 15:43 \u001b[01;34mtest\u001b[0m/\n"
          ],
          "name": "stdout"
        }
      ]
    },
    {
      "cell_type": "code",
      "metadata": {
        "id": "Id9VMbl0IRvu",
        "colab_type": "code",
        "outputId": "0fd080c9-d108-4730-c51a-f8a42f6a55cd",
        "colab": {
          "base_uri": "https://localhost:8080/",
          "height": 85
        }
      },
      "source": [
        "!git status"
      ],
      "execution_count": 15,
      "outputs": [
        {
          "output_type": "stream",
          "text": [
            "On branch master\n",
            "Your branch is up to date with 'origin/master'.\n",
            "\n",
            "nothing to commit, working tree clean\n"
          ],
          "name": "stdout"
        }
      ]
    },
    {
      "cell_type": "code",
      "metadata": {
        "id": "JgWLyhS5IT6J",
        "colab_type": "code",
        "colab": {}
      },
      "source": [
        "!touch test.txt"
      ],
      "execution_count": 0,
      "outputs": []
    },
    {
      "cell_type": "code",
      "metadata": {
        "id": "vB-ShlxWIVAf",
        "colab_type": "code",
        "colab": {}
      },
      "source": [
        "!git add ."
      ],
      "execution_count": 0,
      "outputs": []
    },
    {
      "cell_type": "code",
      "metadata": {
        "id": "-esyXT6FIYHi",
        "colab_type": "code",
        "colab": {
          "base_uri": "https://localhost:8080/",
          "height": 221
        },
        "outputId": "7e5c9a05-7eee-4544-b108-8934fe8de16e"
      },
      "source": [
        "!git commit -m 'update'"
      ],
      "execution_count": 21,
      "outputs": [
        {
          "output_type": "stream",
          "text": [
            "\n",
            "*** Please tell me who you are.\n",
            "\n",
            "Run\n",
            "\n",
            "  git config --global user.email \"you@example.com\"\n",
            "  git config --global user.name \"Your Name\"\n",
            "\n",
            "to set your account's default identity.\n",
            "Omit --global to set the identity only in this repository.\n",
            "\n",
            "fatal: unable to auto-detect email address (got 'root@b3f570aaa0c6.(none)')\n"
          ],
          "name": "stdout"
        }
      ]
    },
    {
      "cell_type": "code",
      "metadata": {
        "id": "T712jHAuRySk",
        "colab_type": "code",
        "colab": {}
      },
      "source": [
        "!git config --global user.email \"laftworld3141@gmail.com\""
      ],
      "execution_count": 0,
      "outputs": []
    },
    {
      "cell_type": "code",
      "metadata": {
        "id": "D4eHcFFlSJdY",
        "colab_type": "code",
        "colab": {}
      },
      "source": [
        "!git config --global user.name \"laftworld\""
      ],
      "execution_count": 0,
      "outputs": []
    },
    {
      "cell_type": "code",
      "metadata": {
        "id": "zCxox4hGSMYS",
        "colab_type": "code",
        "colab": {
          "base_uri": "https://localhost:8080/",
          "height": 68
        },
        "outputId": "c55f2524-a833-49a8-9e6d-f5b286822304"
      },
      "source": [
        "!git commit -m 'update'"
      ],
      "execution_count": 24,
      "outputs": [
        {
          "output_type": "stream",
          "text": [
            "[master 1cc8510] update\n",
            " 1 file changed, 0 insertions(+), 0 deletions(-)\n",
            " create mode 100644 test.txt\n"
          ],
          "name": "stdout"
        }
      ]
    },
    {
      "cell_type": "code",
      "metadata": {
        "id": "P22pJuR8SN21",
        "colab_type": "code",
        "colab": {
          "base_uri": "https://localhost:8080/",
          "height": 34
        },
        "outputId": "7690c3a9-43b9-4714-a802-36b048bbe1e8"
      },
      "source": [
        "!git push origin master"
      ],
      "execution_count": 25,
      "outputs": [
        {
          "output_type": "stream",
          "text": [
            "fatal: could not read Username for 'https://github.com': No such device or address\n"
          ],
          "name": "stdout"
        }
      ]
    },
    {
      "cell_type": "code",
      "metadata": {
        "id": "cmN_QV89SQbk",
        "colab_type": "code",
        "colab": {
          "base_uri": "https://localhost:8080/",
          "height": 119
        },
        "outputId": "2c35b21c-c7fd-4ba6-d09e-9b11fa6d1044"
      },
      "source": [
        "!ls -al"
      ],
      "execution_count": 26,
      "outputs": [
        {
          "output_type": "stream",
          "text": [
            "total 16\n",
            "drwxr-xr-x 3 root root 4096 Jan 11 15:44 .\n",
            "drwxr-xr-x 4 root root 4096 Jan 11 15:42 ..\n",
            "drwxr-xr-x 8 root root 4096 Jan 11 15:46 .git\n",
            "-rw-r--r-- 1 root root    6 Jan 11 15:43 README.md\n",
            "-rw-r--r-- 1 root root    0 Jan 11 15:44 test.txt\n"
          ],
          "name": "stdout"
        }
      ]
    },
    {
      "cell_type": "code",
      "metadata": {
        "id": "IYH-Kj9ySUy5",
        "colab_type": "code",
        "colab": {
          "base_uri": "https://localhost:8080/",
          "height": 326
        },
        "outputId": "d4f1d29f-7d7c-4c26-8338-0bdb21cc77aa"
      },
      "source": [
        "!git remote origin"
      ],
      "execution_count": 27,
      "outputs": [
        {
          "output_type": "stream",
          "text": [
            "error: Unknown subcommand: origin\n",
            "usage: git remote [-v | --verbose]\n",
            "   or: git remote add [-t <branch>] [-m <master>] [-f] [--tags | --no-tags] [--mirror=<fetch|push>] <name> <url>\n",
            "   or: git remote rename <old> <new>\n",
            "   or: git remote remove <name>\n",
            "   or: git remote set-head <name> (-a | --auto | -d | --delete | <branch>)\n",
            "   or: git remote [-v | --verbose] show [-n] <name>\n",
            "   or: git remote prune [-n | --dry-run] <name>\n",
            "   or: git remote [-v | --verbose] update [-p | --prune] [(<group> | <remote>)...]\n",
            "   or: git remote set-branches [--add] <name> <branch>...\n",
            "   or: git remote get-url [--push] [--all] <name>\n",
            "   or: git remote set-url [--push] <name> <newurl> [<oldurl>]\n",
            "   or: git remote set-url --add <name> <newurl>\n",
            "   or: git remote set-url --delete <name> <url>\n",
            "\n",
            "    -v, --verbose         be verbose; must be placed before a subcommand\n",
            "\n"
          ],
          "name": "stdout"
        }
      ]
    },
    {
      "cell_type": "code",
      "metadata": {
        "id": "1pu-R0UUSY9c",
        "colab_type": "code",
        "colab": {
          "base_uri": "https://localhost:8080/",
          "height": 34
        },
        "outputId": "dbe5a044-29c9-41c5-f3e4-e111c86a857a"
      },
      "source": [
        "!git remote add origin https://github.com/laftworld/test.git"
      ],
      "execution_count": 28,
      "outputs": [
        {
          "output_type": "stream",
          "text": [
            "fatal: remote origin already exists.\n"
          ],
          "name": "stdout"
        }
      ]
    },
    {
      "cell_type": "code",
      "metadata": {
        "id": "9pMShPjBTEb9",
        "colab_type": "code",
        "colab": {
          "base_uri": "https://localhost:8080/",
          "height": 326
        },
        "outputId": "87ba8af3-9ea6-42f8-caa2-f57fa8d6d31b"
      },
      "source": [
        "!git remote origin"
      ],
      "execution_count": 29,
      "outputs": [
        {
          "output_type": "stream",
          "text": [
            "error: Unknown subcommand: origin\n",
            "usage: git remote [-v | --verbose]\n",
            "   or: git remote add [-t <branch>] [-m <master>] [-f] [--tags | --no-tags] [--mirror=<fetch|push>] <name> <url>\n",
            "   or: git remote rename <old> <new>\n",
            "   or: git remote remove <name>\n",
            "   or: git remote set-head <name> (-a | --auto | -d | --delete | <branch>)\n",
            "   or: git remote [-v | --verbose] show [-n] <name>\n",
            "   or: git remote prune [-n | --dry-run] <name>\n",
            "   or: git remote [-v | --verbose] update [-p | --prune] [(<group> | <remote>)...]\n",
            "   or: git remote set-branches [--add] <name> <branch>...\n",
            "   or: git remote get-url [--push] [--all] <name>\n",
            "   or: git remote set-url [--push] <name> <newurl> [<oldurl>]\n",
            "   or: git remote set-url --add <name> <newurl>\n",
            "   or: git remote set-url --delete <name> <url>\n",
            "\n",
            "    -v, --verbose         be verbose; must be placed before a subcommand\n",
            "\n"
          ],
          "name": "stdout"
        }
      ]
    },
    {
      "cell_type": "code",
      "metadata": {
        "id": "fmMutyNLTGbf",
        "colab_type": "code",
        "colab": {
          "base_uri": "https://localhost:8080/",
          "height": 34
        },
        "outputId": "26430d96-5d4e-4239-e0d2-a513eed93c29"
      },
      "source": [
        "!git push --set-upstream origin master"
      ],
      "execution_count": 30,
      "outputs": [
        {
          "output_type": "stream",
          "text": [
            "fatal: could not read Username for 'https://github.com': No such device or address\n"
          ],
          "name": "stdout"
        }
      ]
    },
    {
      "cell_type": "code",
      "metadata": {
        "id": "PjhP546wTMAr",
        "colab_type": "code",
        "colab": {}
      },
      "source": [
        "!git remote set-url origin https://github.com/laftworld/test.git"
      ],
      "execution_count": 0,
      "outputs": []
    },
    {
      "cell_type": "code",
      "metadata": {
        "id": "bzFSLYkyTXlc",
        "colab_type": "code",
        "colab": {
          "base_uri": "https://localhost:8080/",
          "height": 34
        },
        "outputId": "08399b56-5a1a-4400-f2d2-ad6cdb2a07a3"
      },
      "source": [
        "!git push origin master"
      ],
      "execution_count": 33,
      "outputs": [
        {
          "output_type": "stream",
          "text": [
            "fatal: could not read Username for 'https://github.com': No such device or address\n"
          ],
          "name": "stdout"
        }
      ]
    },
    {
      "cell_type": "code",
      "metadata": {
        "id": "b6ZZLBXoTdO1",
        "colab_type": "code",
        "colab": {
          "base_uri": "https://localhost:8080/",
          "height": 34
        },
        "outputId": "609b4c2b-45ad-462c-8b98-310e4fdd0a30"
      },
      "source": [
        "!git push --set-upstream origin master"
      ],
      "execution_count": 34,
      "outputs": [
        {
          "output_type": "stream",
          "text": [
            "fatal: could not read Username for 'https://github.com': No such device or address\n"
          ],
          "name": "stdout"
        }
      ]
    },
    {
      "cell_type": "code",
      "metadata": {
        "id": "yD4-awVuTg1h",
        "colab_type": "code",
        "colab": {}
      },
      "source": [
        "!git remote set-url origin git@github.com:laftworld/test.git"
      ],
      "execution_count": 0,
      "outputs": []
    },
    {
      "cell_type": "code",
      "metadata": {
        "id": "84k-BRlfT6W2",
        "colab_type": "code",
        "colab": {
          "base_uri": "https://localhost:8080/",
          "height": 102
        },
        "outputId": "58c77759-de1a-4ab7-a6a3-2c5651e7ff91"
      },
      "source": [
        "!git push origin master"
      ],
      "execution_count": 36,
      "outputs": [
        {
          "output_type": "stream",
          "text": [
            "Host key verification failed.\r\n",
            "fatal: Could not read from remote repository.\n",
            "\n",
            "Please make sure you have the correct access rights\n",
            "and the repository exists.\n"
          ],
          "name": "stdout"
        }
      ]
    },
    {
      "cell_type": "code",
      "metadata": {
        "id": "K2SfybBcT7k_",
        "colab_type": "code",
        "colab": {
          "base_uri": "https://localhost:8080/",
          "height": 119
        },
        "outputId": "50dc2156-3d72-47d6-fd4c-a4be06d34415"
      },
      "source": [
        "!git clone git@github.com:laftworld/test.git"
      ],
      "execution_count": 38,
      "outputs": [
        {
          "output_type": "stream",
          "text": [
            "Cloning into 'test'...\n",
            "Host key verification failed.\r\n",
            "fatal: Could not read from remote repository.\n",
            "\n",
            "Please make sure you have the correct access rights\n",
            "and the repository exists.\n"
          ],
          "name": "stdout"
        }
      ]
    },
    {
      "cell_type": "code",
      "metadata": {
        "id": "WfGU6lawUAHT",
        "colab_type": "code",
        "colab": {
          "base_uri": "https://localhost:8080/",
          "height": 119
        },
        "outputId": "65ce786f-4393-469d-9233-2f7185a90066"
      },
      "source": [
        "ls -al"
      ],
      "execution_count": 39,
      "outputs": [
        {
          "output_type": "stream",
          "text": [
            "total 16\n",
            "drwxr-xr-x 3 root root 4096 Jan 11 15:54 \u001b[0m\u001b[01;34m.\u001b[0m/\n",
            "drwxr-xr-x 4 root root 4096 Jan 11 15:42 \u001b[01;34m..\u001b[0m/\n",
            "drwxr-xr-x 8 root root 4096 Jan 11 15:53 \u001b[01;34m.git\u001b[0m/\n",
            "-rw-r--r-- 1 root root    6 Jan 11 15:43 README.md\n",
            "-rw-r--r-- 1 root root    0 Jan 11 15:44 test.txt\n"
          ],
          "name": "stdout"
        }
      ]
    },
    {
      "cell_type": "code",
      "metadata": {
        "id": "LMQWAvJJUFqp",
        "colab_type": "code",
        "colab": {}
      },
      "source": [
        "!cd .."
      ],
      "execution_count": 0,
      "outputs": []
    },
    {
      "cell_type": "code",
      "metadata": {
        "id": "k0eA1AViUIGg",
        "colab_type": "code",
        "colab": {
          "base_uri": "https://localhost:8080/",
          "height": 119
        },
        "outputId": "ccfe352b-fc48-4bfb-fd9a-3291c9d100f6"
      },
      "source": [
        "ls -al"
      ],
      "execution_count": 41,
      "outputs": [
        {
          "output_type": "stream",
          "text": [
            "total 16\n",
            "drwxr-xr-x 3 root root 4096 Jan 11 15:54 \u001b[0m\u001b[01;34m.\u001b[0m/\n",
            "drwxr-xr-x 4 root root 4096 Jan 11 15:42 \u001b[01;34m..\u001b[0m/\n",
            "drwxr-xr-x 8 root root 4096 Jan 11 15:53 \u001b[01;34m.git\u001b[0m/\n",
            "-rw-r--r-- 1 root root    6 Jan 11 15:43 README.md\n",
            "-rw-r--r-- 1 root root    0 Jan 11 15:44 test.txt\n"
          ],
          "name": "stdout"
        }
      ]
    },
    {
      "cell_type": "code",
      "metadata": {
        "id": "N4Ec0W2PUI5Y",
        "colab_type": "code",
        "colab": {}
      },
      "source": [
        ""
      ],
      "execution_count": 0,
      "outputs": []
    }
  ]
}